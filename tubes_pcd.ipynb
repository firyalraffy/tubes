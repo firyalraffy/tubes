{
  "nbformat": 4,
  "nbformat_minor": 0,
  "metadata": {
    "colab": {
      "provenance": []
    },
    "kernelspec": {
      "name": "python3",
      "display_name": "Python 3"
    },
    "language_info": {
      "name": "python"
    }
  },
  "cells": [
    {
      "cell_type": "markdown",
      "source": [
        "## IMPORT LIBRARIES"
      ],
      "metadata": {
        "id": "2A4dBmzxzg5a"
      }
    },
    {
      "cell_type": "code",
      "source": [
        "import cv2\n",
        "import numpy as np\n",
        "from sklearn.model_selection import train_test_split, GridSearchCV\n",
        "from sklearn.svm import SVC\n",
        "from sklearn.metrics import accuracy_score, classification_report, confusion_matrix\n",
        "import os\n",
        "import matplotlib.pyplot as plt\n",
        "from collections import defaultdict"
      ],
      "metadata": {
        "id": "MFQ9g1KjW_7H"
      },
      "execution_count": null,
      "outputs": []
    },
    {
      "cell_type": "markdown",
      "source": [
        "## READ DATASET"
      ],
      "metadata": {
        "id": "ePQWQpO_zlnp"
      }
    },
    {
      "cell_type": "code",
      "source": [
        "from google.colab import drive\n",
        "drive.mount('/content/drive')"
      ],
      "metadata": {
        "colab": {
          "base_uri": "https://localhost:8080/"
        },
        "id": "VPWTeamfkDVq",
        "outputId": "63e0bc89-2455-4055-af1b-8efc85cf6d79"
      },
      "execution_count": null,
      "outputs": [
        {
          "output_type": "stream",
          "name": "stdout",
          "text": [
            "Drive already mounted at /content/drive; to attempt to forcibly remount, call drive.mount(\"/content/drive\", force_remount=True).\n"
          ]
        }
      ]
    },
    {
      "cell_type": "code",
      "source": [
        "data = []\n",
        "labels = []\n",
        "image_size = (64, 64)\n",
        "training_path = \"/content/drive/MyDrive/Training\"\n",
        "\n",
        "if not os.path.exists(training_path):\n",
        "    print(f\"Error: Training directory not found at {training_path}\")\n",
        "    exit(1)\n",
        "\n",
        "displayed_images = defaultdict(bool)"
      ],
      "metadata": {
        "id": "IpRPaIzmXBkR"
      },
      "execution_count": null,
      "outputs": []
    },
    {
      "cell_type": "markdown",
      "source": [
        "## PRE-PROCESSING"
      ],
      "metadata": {
        "id": "hQlxunjZzpw5"
      }
    },
    {
      "cell_type": "code",
      "source": [
        "def preprocess_image(img):\n",
        "    img_resized = cv2.resize(img, (64, 64))\n",
        "\n",
        "    img_blurred = cv2.GaussianBlur(img_resized, (5, 5), 0)\n",
        "    img_blurred = cv2.medianBlur(img_blurred, 5)\n",
        "\n",
        "    gray_img = cv2.cvtColor(img_blurred, cv2.COLOR_BGR2GRAY)\n",
        "\n",
        "    enhanced_img = cv2.equalizeHist(gray_img)\n",
        "\n",
        "    min_val, max_val = np.min(enhanced_img), np.max(enhanced_img)\n",
        "    contrast_stretched_img = 255 * (enhanced_img - min_val) / (max_val - min_val)\n",
        "    contrast_stretched_img = np.uint8(contrast_stretched_img)\n",
        "\n",
        "    return contrast_stretched_img"
      ],
      "metadata": {
        "id": "xA5GnjqDiZEm"
      },
      "execution_count": null,
      "outputs": []
    },
    {
      "cell_type": "markdown",
      "source": [
        "## FEATURE EXTRACTION"
      ],
      "metadata": {
        "id": "pi_87fRPzz9U"
      }
    },
    {
      "cell_type": "code",
      "source": [
        "def extract_features(img):\n",
        "    win_size = (64, 64)\n",
        "    block_size = (16, 16)\n",
        "    block_stride = (8, 8)\n",
        "    cell_size = (8, 8)\n",
        "    nbins = 9\n",
        "\n",
        "    hog = cv2.HOGDescriptor(win_size, block_size, block_stride, cell_size, nbins)\n",
        "    hog_features = hog.compute(img).flatten()\n",
        "\n",
        "    return hog_features"
      ],
      "metadata": {
        "id": "sMx7T42Aid2O"
      },
      "execution_count": null,
      "outputs": []
    },
    {
      "cell_type": "code",
      "source": [
        "for folder in os.listdir(training_path):\n",
        "    folder_path = os.path.join(training_path, folder)\n",
        "    if os.path.isdir(folder_path):\n",
        "        for filename in os.listdir(folder_path):\n",
        "            if filename.lower().endswith(('.jpg', '.jpeg', '.png')):\n",
        "                img_path = os.path.join(folder_path, filename)\n",
        "                try:\n",
        "                    img = cv2.imread(img_path)\n",
        "                    if img is not None:\n",
        "                        processed_img = preprocess_image(img)\n",
        "\n",
        "                        hog_features = extract_features(processed_img)\n",
        "\n",
        "                        data.append(hog_features)\n",
        "                        labels.append(folder)\n",
        "\n",
        "                        if folder not in displayed_images:\n",
        "                            plt.imshow(cv2.cvtColor(img, cv2.COLOR_BGR2RGB))\n",
        "                            plt.title(f\"Image: {folder}\")\n",
        "                            plt.show()\n",
        "                            displayed_images[folder] = True\n",
        "                    else:\n",
        "                        print(f\"Warning: Could not read image: {img_path}\")\n",
        "                except Exception as e:\n",
        "                    print(f\"Error processing image {img_path}: {e}\")"
      ],
      "metadata": {
        "id": "HDQl3nTLXEFU"
      },
      "execution_count": null,
      "outputs": []
    },
    {
      "cell_type": "markdown",
      "source": [
        "## CLASSIFICATION"
      ],
      "metadata": {
        "id": "kKWcGK5Sz8Zg"
      }
    },
    {
      "cell_type": "code",
      "source": [
        "if len(data) > 0:\n",
        "    X_train, X_test, y_train, y_test = train_test_split(data, labels, test_size=0.2, random_state=42)\n",
        "\n",
        "    param_grid = {\n",
        "        'C': [0.1, 1, 10, 100],\n",
        "        'kernel': ['linear', 'rbf'],\n",
        "        'gamma': ['scale', 'auto', 0.1, 1]\n",
        "    }\n",
        "\n",
        "    grid_search = GridSearchCV(SVC(), param_grid, cv=5, n_jobs=-1, verbose=1, scoring='accuracy')\n",
        "\n",
        "    grid_search.fit(X_train, y_train)\n",
        "\n",
        "    print(f\"Best Parameters: {grid_search.best_params_}\")\n",
        "    print(f\"Best Cross-validation Accuracy: {grid_search.best_score_}\")\n",
        "\n",
        "    best_clf = grid_search.best_estimator_\n",
        "    y_pred = best_clf.predict(X_test)\n",
        "\n",
        "else:\n",
        "    print(\"Error: No image data found. Check dataset and path.\")"
      ],
      "metadata": {
        "id": "0tt_1UmEXKRX",
        "colab": {
          "base_uri": "https://localhost:8080/"
        },
        "outputId": "d86c5386-15db-4bbe-b890-eb239ec27676"
      },
      "execution_count": null,
      "outputs": [
        {
          "output_type": "stream",
          "name": "stdout",
          "text": [
            "Fitting 5 folds for each of 32 candidates, totalling 160 fits\n",
            "Best Parameters: {'C': 10, 'gamma': 'scale', 'kernel': 'rbf'}\n",
            "Best Cross-validation Accuracy: 0.7166975648638241\n"
          ]
        }
      ]
    },
    {
      "cell_type": "markdown",
      "source": [
        "## POST-PROCESSING"
      ],
      "metadata": {
        "id": "UaUvcqp-0DU1"
      }
    },
    {
      "cell_type": "code",
      "source": [
        "if len(data) > 0:\n",
        "    accuracy = accuracy_score(y_test, y_pred)\n",
        "    report = classification_report(y_test, y_pred)\n",
        "    cm = confusion_matrix(y_test, y_pred)\n",
        "\n",
        "    print(f\"Accuracy: {accuracy}\")\n",
        "    print(f\"Classification Report:\\n{report}\")\n",
        "    print(f\"Confusion Matrix:\\n{cm}\")\n",
        "else:\n",
        "    print(\"Error: Model evaluation failed. Check the dataset and pre-processing steps.\")"
      ],
      "metadata": {
        "id": "DWxjFqcxXNpK",
        "colab": {
          "base_uri": "https://localhost:8080/"
        },
        "outputId": "8d0b6647-06bf-439a-ce47-73b7bae194eb"
      },
      "execution_count": null,
      "outputs": [
        {
          "output_type": "stream",
          "name": "stdout",
          "text": [
            "Accuracy: 0.7018572825024438\n",
            "Classification Report:\n",
            "                  precision    recall  f1-score   support\n",
            "\n",
            "    Potato White       0.97      0.87      0.92       103\n",
            "          Quince       0.78      0.87      0.82       107\n",
            "        Rambutan       0.74      0.30      0.43        87\n",
            "       Raspberry       0.74      0.66      0.70        86\n",
            "      Redcurrant       0.33      1.00      0.49        97\n",
            "           Salak       0.87      0.81      0.84       100\n",
            "      Strawberry       0.97      0.64      0.77        94\n",
            "Strawberry Wedge       0.86      0.65      0.74       137\n",
            "       Tamarillo       0.94      0.31      0.47       105\n",
            "         Tangelo       0.87      0.86      0.86       107\n",
            "\n",
            "        accuracy                           0.70      1023\n",
            "       macro avg       0.81      0.70      0.70      1023\n",
            "    weighted avg       0.81      0.70      0.71      1023\n",
            "\n",
            "Confusion Matrix:\n",
            "[[90  0  0  0  9  3  0  1  0  0]\n",
            " [ 0 93  0  1  1  1  0  2  0  9]\n",
            " [ 0  2 26  3 47  2  0  6  1  0]\n",
            " [ 0  7  2 57  7  3  2  3  1  4]\n",
            " [ 0  0  0  0 97  0  0  0  0  0]\n",
            " [ 1  2  2  3  9 81  0  2  0  0]\n",
            " [ 0  2  0  2 28  0 60  1  0  1]\n",
            " [ 2  6  5  5 27  3  0 89  0  0]\n",
            " [ 0  1  0  3 68  0  0  0 33  0]\n",
            " [ 0  7  0  3  5  0  0  0  0 92]]\n"
          ]
        }
      ]
    }
  ]
}